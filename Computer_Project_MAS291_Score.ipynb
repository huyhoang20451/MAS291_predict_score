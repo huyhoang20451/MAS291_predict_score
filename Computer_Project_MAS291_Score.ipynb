{
  "nbformat": 4,
  "nbformat_minor": 0,
  "metadata": {
    "colab": {
      "provenance": []
    },
    "kernelspec": {
      "name": "python3",
      "display_name": "Python 3"
    },
    "language_info": {
      "name": "python"
    }
  },
  "cells": [
    {
      "cell_type": "markdown",
      "source": [
        "Importing the Dependencies"
      ],
      "metadata": {
        "id": "l8L3s5w8310J"
      }
    },
    {
      "cell_type": "code",
      "execution_count": null,
      "metadata": {
        "id": "PT0YDs1w3my2"
      },
      "outputs": [],
      "source": [
        "import numpy as np\n",
        "import pandas as pd\n",
        "import matplotlib.pyplot as plt\n",
        "import sklearn\n",
        "from sklearn import linear_model\n",
        "from sklearn.linear_model import LinearRegression\n",
        "from sklearn.model_selection import train_test_split\n",
        "import seaborn as sns"
      ]
    },
    {
      "cell_type": "code",
      "source": [
        "fileScore = pd.read_csv('FA23.csv')\n",
        "fileScore.head()"
      ],
      "metadata": {
        "colab": {
          "base_uri": "https://localhost:8080/",
          "height": 206
        },
        "id": "SQx6u8S04hCU",
        "outputId": "ec526619-9d9e-427b-b175-ee783b1d3273"
      },
      "execution_count": null,
      "outputs": [
        {
          "output_type": "execute_result",
          "data": {
            "text/plain": [
              "   No.  Computer_Project  Assignment  Quiz  Final\n",
              "0    1               2.5         8.4   4.8    5.2\n",
              "1    2              10.0         9.2   7.3    5.8\n",
              "2    3              10.0         7.7   5.2    6.2\n",
              "3    4               6.5         7.4   4.1    4.2\n",
              "4    5               1.0         6.4   5.6    2.8"
            ],
            "text/html": [
              "\n",
              "  <div id=\"df-a9556a23-5e13-4ca2-b5ab-ff648e96982c\" class=\"colab-df-container\">\n",
              "    <div>\n",
              "<style scoped>\n",
              "    .dataframe tbody tr th:only-of-type {\n",
              "        vertical-align: middle;\n",
              "    }\n",
              "\n",
              "    .dataframe tbody tr th {\n",
              "        vertical-align: top;\n",
              "    }\n",
              "\n",
              "    .dataframe thead th {\n",
              "        text-align: right;\n",
              "    }\n",
              "</style>\n",
              "<table border=\"1\" class=\"dataframe\">\n",
              "  <thead>\n",
              "    <tr style=\"text-align: right;\">\n",
              "      <th></th>\n",
              "      <th>No.</th>\n",
              "      <th>Computer_Project</th>\n",
              "      <th>Assignment</th>\n",
              "      <th>Quiz</th>\n",
              "      <th>Final</th>\n",
              "    </tr>\n",
              "  </thead>\n",
              "  <tbody>\n",
              "    <tr>\n",
              "      <th>0</th>\n",
              "      <td>1</td>\n",
              "      <td>2.5</td>\n",
              "      <td>8.4</td>\n",
              "      <td>4.8</td>\n",
              "      <td>5.2</td>\n",
              "    </tr>\n",
              "    <tr>\n",
              "      <th>1</th>\n",
              "      <td>2</td>\n",
              "      <td>10.0</td>\n",
              "      <td>9.2</td>\n",
              "      <td>7.3</td>\n",
              "      <td>5.8</td>\n",
              "    </tr>\n",
              "    <tr>\n",
              "      <th>2</th>\n",
              "      <td>3</td>\n",
              "      <td>10.0</td>\n",
              "      <td>7.7</td>\n",
              "      <td>5.2</td>\n",
              "      <td>6.2</td>\n",
              "    </tr>\n",
              "    <tr>\n",
              "      <th>3</th>\n",
              "      <td>4</td>\n",
              "      <td>6.5</td>\n",
              "      <td>7.4</td>\n",
              "      <td>4.1</td>\n",
              "      <td>4.2</td>\n",
              "    </tr>\n",
              "    <tr>\n",
              "      <th>4</th>\n",
              "      <td>5</td>\n",
              "      <td>1.0</td>\n",
              "      <td>6.4</td>\n",
              "      <td>5.6</td>\n",
              "      <td>2.8</td>\n",
              "    </tr>\n",
              "  </tbody>\n",
              "</table>\n",
              "</div>\n",
              "    <div class=\"colab-df-buttons\">\n",
              "\n",
              "  <div class=\"colab-df-container\">\n",
              "    <button class=\"colab-df-convert\" onclick=\"convertToInteractive('df-a9556a23-5e13-4ca2-b5ab-ff648e96982c')\"\n",
              "            title=\"Convert this dataframe to an interactive table.\"\n",
              "            style=\"display:none;\">\n",
              "\n",
              "  <svg xmlns=\"http://www.w3.org/2000/svg\" height=\"24px\" viewBox=\"0 -960 960 960\">\n",
              "    <path d=\"M120-120v-720h720v720H120Zm60-500h600v-160H180v160Zm220 220h160v-160H400v160Zm0 220h160v-160H400v160ZM180-400h160v-160H180v160Zm440 0h160v-160H620v160ZM180-180h160v-160H180v160Zm440 0h160v-160H620v160Z\"/>\n",
              "  </svg>\n",
              "    </button>\n",
              "\n",
              "  <style>\n",
              "    .colab-df-container {\n",
              "      display:flex;\n",
              "      gap: 12px;\n",
              "    }\n",
              "\n",
              "    .colab-df-convert {\n",
              "      background-color: #E8F0FE;\n",
              "      border: none;\n",
              "      border-radius: 50%;\n",
              "      cursor: pointer;\n",
              "      display: none;\n",
              "      fill: #1967D2;\n",
              "      height: 32px;\n",
              "      padding: 0 0 0 0;\n",
              "      width: 32px;\n",
              "    }\n",
              "\n",
              "    .colab-df-convert:hover {\n",
              "      background-color: #E2EBFA;\n",
              "      box-shadow: 0px 1px 2px rgba(60, 64, 67, 0.3), 0px 1px 3px 1px rgba(60, 64, 67, 0.15);\n",
              "      fill: #174EA6;\n",
              "    }\n",
              "\n",
              "    .colab-df-buttons div {\n",
              "      margin-bottom: 4px;\n",
              "    }\n",
              "\n",
              "    [theme=dark] .colab-df-convert {\n",
              "      background-color: #3B4455;\n",
              "      fill: #D2E3FC;\n",
              "    }\n",
              "\n",
              "    [theme=dark] .colab-df-convert:hover {\n",
              "      background-color: #434B5C;\n",
              "      box-shadow: 0px 1px 3px 1px rgba(0, 0, 0, 0.15);\n",
              "      filter: drop-shadow(0px 1px 2px rgba(0, 0, 0, 0.3));\n",
              "      fill: #FFFFFF;\n",
              "    }\n",
              "  </style>\n",
              "\n",
              "    <script>\n",
              "      const buttonEl =\n",
              "        document.querySelector('#df-a9556a23-5e13-4ca2-b5ab-ff648e96982c button.colab-df-convert');\n",
              "      buttonEl.style.display =\n",
              "        google.colab.kernel.accessAllowed ? 'block' : 'none';\n",
              "\n",
              "      async function convertToInteractive(key) {\n",
              "        const element = document.querySelector('#df-a9556a23-5e13-4ca2-b5ab-ff648e96982c');\n",
              "        const dataTable =\n",
              "          await google.colab.kernel.invokeFunction('convertToInteractive',\n",
              "                                                    [key], {});\n",
              "        if (!dataTable) return;\n",
              "\n",
              "        const docLinkHtml = 'Like what you see? Visit the ' +\n",
              "          '<a target=\"_blank\" href=https://colab.research.google.com/notebooks/data_table.ipynb>data table notebook</a>'\n",
              "          + ' to learn more about interactive tables.';\n",
              "        element.innerHTML = '';\n",
              "        dataTable['output_type'] = 'display_data';\n",
              "        await google.colab.output.renderOutput(dataTable, element);\n",
              "        const docLink = document.createElement('div');\n",
              "        docLink.innerHTML = docLinkHtml;\n",
              "        element.appendChild(docLink);\n",
              "      }\n",
              "    </script>\n",
              "  </div>\n",
              "\n",
              "\n",
              "<div id=\"df-51205e16-9e47-423e-9a51-d58752b6543d\">\n",
              "  <button class=\"colab-df-quickchart\" onclick=\"quickchart('df-51205e16-9e47-423e-9a51-d58752b6543d')\"\n",
              "            title=\"Suggest charts\"\n",
              "            style=\"display:none;\">\n",
              "\n",
              "<svg xmlns=\"http://www.w3.org/2000/svg\" height=\"24px\"viewBox=\"0 0 24 24\"\n",
              "     width=\"24px\">\n",
              "    <g>\n",
              "        <path d=\"M19 3H5c-1.1 0-2 .9-2 2v14c0 1.1.9 2 2 2h14c1.1 0 2-.9 2-2V5c0-1.1-.9-2-2-2zM9 17H7v-7h2v7zm4 0h-2V7h2v10zm4 0h-2v-4h2v4z\"/>\n",
              "    </g>\n",
              "</svg>\n",
              "  </button>\n",
              "\n",
              "<style>\n",
              "  .colab-df-quickchart {\n",
              "      --bg-color: #E8F0FE;\n",
              "      --fill-color: #1967D2;\n",
              "      --hover-bg-color: #E2EBFA;\n",
              "      --hover-fill-color: #174EA6;\n",
              "      --disabled-fill-color: #AAA;\n",
              "      --disabled-bg-color: #DDD;\n",
              "  }\n",
              "\n",
              "  [theme=dark] .colab-df-quickchart {\n",
              "      --bg-color: #3B4455;\n",
              "      --fill-color: #D2E3FC;\n",
              "      --hover-bg-color: #434B5C;\n",
              "      --hover-fill-color: #FFFFFF;\n",
              "      --disabled-bg-color: #3B4455;\n",
              "      --disabled-fill-color: #666;\n",
              "  }\n",
              "\n",
              "  .colab-df-quickchart {\n",
              "    background-color: var(--bg-color);\n",
              "    border: none;\n",
              "    border-radius: 50%;\n",
              "    cursor: pointer;\n",
              "    display: none;\n",
              "    fill: var(--fill-color);\n",
              "    height: 32px;\n",
              "    padding: 0;\n",
              "    width: 32px;\n",
              "  }\n",
              "\n",
              "  .colab-df-quickchart:hover {\n",
              "    background-color: var(--hover-bg-color);\n",
              "    box-shadow: 0 1px 2px rgba(60, 64, 67, 0.3), 0 1px 3px 1px rgba(60, 64, 67, 0.15);\n",
              "    fill: var(--button-hover-fill-color);\n",
              "  }\n",
              "\n",
              "  .colab-df-quickchart-complete:disabled,\n",
              "  .colab-df-quickchart-complete:disabled:hover {\n",
              "    background-color: var(--disabled-bg-color);\n",
              "    fill: var(--disabled-fill-color);\n",
              "    box-shadow: none;\n",
              "  }\n",
              "\n",
              "  .colab-df-spinner {\n",
              "    border: 2px solid var(--fill-color);\n",
              "    border-color: transparent;\n",
              "    border-bottom-color: var(--fill-color);\n",
              "    animation:\n",
              "      spin 1s steps(1) infinite;\n",
              "  }\n",
              "\n",
              "  @keyframes spin {\n",
              "    0% {\n",
              "      border-color: transparent;\n",
              "      border-bottom-color: var(--fill-color);\n",
              "      border-left-color: var(--fill-color);\n",
              "    }\n",
              "    20% {\n",
              "      border-color: transparent;\n",
              "      border-left-color: var(--fill-color);\n",
              "      border-top-color: var(--fill-color);\n",
              "    }\n",
              "    30% {\n",
              "      border-color: transparent;\n",
              "      border-left-color: var(--fill-color);\n",
              "      border-top-color: var(--fill-color);\n",
              "      border-right-color: var(--fill-color);\n",
              "    }\n",
              "    40% {\n",
              "      border-color: transparent;\n",
              "      border-right-color: var(--fill-color);\n",
              "      border-top-color: var(--fill-color);\n",
              "    }\n",
              "    60% {\n",
              "      border-color: transparent;\n",
              "      border-right-color: var(--fill-color);\n",
              "    }\n",
              "    80% {\n",
              "      border-color: transparent;\n",
              "      border-right-color: var(--fill-color);\n",
              "      border-bottom-color: var(--fill-color);\n",
              "    }\n",
              "    90% {\n",
              "      border-color: transparent;\n",
              "      border-bottom-color: var(--fill-color);\n",
              "    }\n",
              "  }\n",
              "</style>\n",
              "\n",
              "  <script>\n",
              "    async function quickchart(key) {\n",
              "      const quickchartButtonEl =\n",
              "        document.querySelector('#' + key + ' button');\n",
              "      quickchartButtonEl.disabled = true;  // To prevent multiple clicks.\n",
              "      quickchartButtonEl.classList.add('colab-df-spinner');\n",
              "      try {\n",
              "        const charts = await google.colab.kernel.invokeFunction(\n",
              "            'suggestCharts', [key], {});\n",
              "      } catch (error) {\n",
              "        console.error('Error during call to suggestCharts:', error);\n",
              "      }\n",
              "      quickchartButtonEl.classList.remove('colab-df-spinner');\n",
              "      quickchartButtonEl.classList.add('colab-df-quickchart-complete');\n",
              "    }\n",
              "    (() => {\n",
              "      let quickchartButtonEl =\n",
              "        document.querySelector('#df-51205e16-9e47-423e-9a51-d58752b6543d button');\n",
              "      quickchartButtonEl.style.display =\n",
              "        google.colab.kernel.accessAllowed ? 'block' : 'none';\n",
              "    })();\n",
              "  </script>\n",
              "</div>\n",
              "    </div>\n",
              "  </div>\n"
            ]
          },
          "metadata": {},
          "execution_count": 2
        }
      ]
    },
    {
      "cell_type": "code",
      "source": [
        "fileScore.info()"
      ],
      "metadata": {
        "colab": {
          "base_uri": "https://localhost:8080/"
        },
        "id": "PP238xZY4tUU",
        "outputId": "c7b1f560-3d1b-4667-8303-4a1f56357db0"
      },
      "execution_count": null,
      "outputs": [
        {
          "output_type": "stream",
          "name": "stdout",
          "text": [
            "<class 'pandas.core.frame.DataFrame'>\n",
            "RangeIndex: 299 entries, 0 to 298\n",
            "Data columns (total 5 columns):\n",
            " #   Column            Non-Null Count  Dtype  \n",
            "---  ------            --------------  -----  \n",
            " 0   No.               299 non-null    int64  \n",
            " 1   Computer_Project  299 non-null    float64\n",
            " 2   Assignment        299 non-null    float64\n",
            " 3   Quiz              299 non-null    float64\n",
            " 4   Final             299 non-null    float64\n",
            "dtypes: float64(4), int64(1)\n",
            "memory usage: 11.8 KB\n"
          ]
        }
      ]
    },
    {
      "cell_type": "markdown",
      "source": [
        "Draw a scatter plot to find the points that gain most between quiz and final_exam"
      ],
      "metadata": {
        "id": "2PzyegYu67w8"
      }
    },
    {
      "cell_type": "code",
      "source": [
        "x = fileScore['Quiz']\n",
        "y = fileScore['Final']\n",
        "print(x)\n",
        "print(y)"
      ],
      "metadata": {
        "colab": {
          "base_uri": "https://localhost:8080/"
        },
        "id": "uL3li9bT6Bp6",
        "outputId": "b11339ff-d939-44ca-8994-c66d66ff7e9f"
      },
      "execution_count": null,
      "outputs": [
        {
          "output_type": "stream",
          "name": "stdout",
          "text": [
            "0      4.8\n",
            "1      7.3\n",
            "2      5.2\n",
            "3      4.1\n",
            "4      5.6\n",
            "      ... \n",
            "294    7.0\n",
            "295    7.3\n",
            "296    5.3\n",
            "297    6.0\n",
            "298    6.0\n",
            "Name: Quiz, Length: 299, dtype: float64\n",
            "0      5.2\n",
            "1      5.8\n",
            "2      6.2\n",
            "3      4.2\n",
            "4      2.8\n",
            "      ... \n",
            "294    4.6\n",
            "295    4.6\n",
            "296    2.8\n",
            "297    6.6\n",
            "298    4.8\n",
            "Name: Final, Length: 299, dtype: float64\n"
          ]
        }
      ]
    },
    {
      "cell_type": "code",
      "source": [
        "#draw a scatter plot in the relation of (quiz, final_exam)\n",
        "plt.scatter(x, y)\n",
        "plt.xlabel('quiz')\n",
        "plt.ylabel('final exam')\n",
        "plt.show()"
      ],
      "metadata": {
        "colab": {
          "base_uri": "https://localhost:8080/",
          "height": 452
        },
        "id": "GlMo8qx65AKo",
        "outputId": "539d71de-6f55-4796-da38-9587e4c939ba"
      },
      "execution_count": null,
      "outputs": [
        {
          "output_type": "display_data",
          "data": {
            "text/plain": [
              "<Figure size 640x480 with 1 Axes>"
            ],
            "image/png": "[encoded data removed]"
          },
          "metadata": {}
        }
      ]
    },
    {
      "cell_type": "code",
      "source": [
        "x1 = fileScore['Assignment']\n",
        "y1 = fileScore['Final']\n",
        "plt.scatter(x1, y1)\n",
        "plt.xlabel('Assignment')\n",
        "plt.ylabel('Final')\n",
        "plt.show()"
      ],
      "metadata": {
        "colab": {
          "base_uri": "https://localhost:8080/",
          "height": 452
        },
        "id": "73u6Ue4O7WNH",
        "outputId": "95464591-d888-4719-bcc7-97f3e98ac55b"
      },
      "execution_count": null,
      "outputs": [
        {
          "output_type": "display_data",
          "data": {
            "text/plain": [
              "<Figure size 640x480 with 1 Axes>"
            ],
            "image/png": "[encoded data removed]"
          },
          "metadata": {}
        }
      ]
    },
    {
      "cell_type": "code",
      "source": [
        "x2 = fileScore['Quiz']\n",
        "y2 = fileScore['Assignment']\n",
        "plt.scatter(x2, y2)\n",
        "plt.xlabel('Quiz')\n",
        "plt.ylabel('Assignment')\n",
        "plt.show()"
      ],
      "metadata": {
        "colab": {
          "base_uri": "https://localhost:8080/",
          "height": 449
        },
        "id": "cMEaTwHM72tJ",
        "outputId": "3a693e8f-b146-463a-d2bc-076b17f4c480"
      },
      "execution_count": null,
      "outputs": [
        {
          "output_type": "display_data",
          "data": {
            "text/plain": [
              "<Figure size 640x480 with 1 Axes>"
            ],
            "image/png": "[encoded data removed]"
          },
          "metadata": {}
        }
      ]
    },
    {
      "cell_type": "code",
      "source": [
        "fileScore.Quiz.value_counts()"
      ],
      "metadata": {
        "colab": {
          "base_uri": "https://localhost:8080/"
        },
        "id": "gMwagMvq8rCy",
        "outputId": "b3734037-78f9-4c9b-8df8-0ad2de9abc5d"
      },
      "execution_count": null,
      "outputs": [
        {
          "output_type": "execute_result",
          "data": {
            "text/plain": [
              "6.7     31\n",
              "7.0     22\n",
              "6.3     20\n",
              "6.0     20\n",
              "7.7     16\n",
              "7.3     13\n",
              "0.0     12\n",
              "5.7     12\n",
              "8.0     11\n",
              "8.7      8\n",
              "8.3      8\n",
              "5.3      7\n",
              "5.0      6\n",
              "6.2      6\n",
              "6.8      5\n",
              "9.0      5\n",
              "4.7      5\n",
              "6.9      5\n",
              "7.2      5\n",
              "9.3      5\n",
              "5.8      4\n",
              "7.6      4\n",
              "8.2      4\n",
              "7.8      4\n",
              "7.5      4\n",
              "6.4      4\n",
              "4.0      3\n",
              "3.7      3\n",
              "6.6      3\n",
              "4.3      3\n",
              "3.9      3\n",
              "5.2      3\n",
              "6.1      3\n",
              "4.8      2\n",
              "5.4      2\n",
              "8.1      2\n",
              "7.1      2\n",
              "8.5      2\n",
              "7.4      2\n",
              "5.5      2\n",
              "4.4      2\n",
              "7.9      2\n",
              "5.6      2\n",
              "1.2      1\n",
              "10.0     1\n",
              "8.6      1\n",
              "5.9      1\n",
              "4.5      1\n",
              "6.5      1\n",
              "3.8      1\n",
              "9.5      1\n",
              "4.9      1\n",
              "9.2      1\n",
              "4.1      1\n",
              "2.7      1\n",
              "Name: Quiz, dtype: int64"
            ]
          },
          "metadata": {},
          "execution_count": 8
        }
      ]
    },
    {
      "cell_type": "code",
      "source": [
        "fileScore.Assignment.value_counts()"
      ],
      "metadata": {
        "colab": {
          "base_uri": "https://localhost:8080/"
        },
        "id": "Hju3hKQI812a",
        "outputId": "422d6894-afd1-4745-b208-7460c7cf078c"
      },
      "execution_count": null,
      "outputs": [
        {
          "output_type": "execute_result",
          "data": {
            "text/plain": [
              "10.0    108\n",
              "9.5      19\n",
              "9.0      12\n",
              "0.0      10\n",
              "8.4      10\n",
              "8.6       7\n",
              "9.8       7\n",
              "7.4       6\n",
              "8.5       6\n",
              "7.5       6\n",
              "8.7       6\n",
              "7.9       6\n",
              "9.3       6\n",
              "9.7       5\n",
              "7.7       5\n",
              "8.0       5\n",
              "8.1       4\n",
              "7.0       4\n",
              "8.3       3\n",
              "9.1       3\n",
              "6.4       3\n",
              "6.1       3\n",
              "7.3       3\n",
              "5.3       3\n",
              "9.2       3\n",
              "7.8       3\n",
              "6.8       3\n",
              "5.5       3\n",
              "8.2       3\n",
              "6.5       2\n",
              "6.9       2\n",
              "7.1       2\n",
              "6.6       2\n",
              "5.8       2\n",
              "1.0       2\n",
              "4.6       2\n",
              "8.8       2\n",
              "7.6       2\n",
              "6.7       2\n",
              "7.2       2\n",
              "5.7       2\n",
              "9.4       1\n",
              "6.0       1\n",
              "2.0       1\n",
              "3.6       1\n",
              "3.0       1\n",
              "4.9       1\n",
              "9.6       1\n",
              "6.2       1\n",
              "5.9       1\n",
              "4.7       1\n",
              "Name: Assignment, dtype: int64"
            ]
          },
          "metadata": {},
          "execution_count": 9
        }
      ]
    },
    {
      "cell_type": "code",
      "source": [
        "fileScore.isnull().sum()"
      ],
      "metadata": {
        "colab": {
          "base_uri": "https://localhost:8080/"
        },
        "id": "TqTljXts8-H8",
        "outputId": "1cdf5d9c-f9dc-43d3-9897-0c779835bf57"
      },
      "execution_count": null,
      "outputs": [
        {
          "output_type": "execute_result",
          "data": {
            "text/plain": [
              "No.                 0\n",
              "Computer_Project    0\n",
              "Assignment          0\n",
              "Quiz                0\n",
              "Final               0\n",
              "dtype: int64"
            ]
          },
          "metadata": {},
          "execution_count": 10
        }
      ]
    },
    {
      "cell_type": "code",
      "source": [
        "sns.boxplot(x='Quiz',y='Final',data=fileScore)"
      ],
      "metadata": {
        "colab": {
          "base_uri": "https://localhost:8080/",
          "height": 469
        },
        "id": "EyHHMV5J9RMB",
        "outputId": "c5783b51-5a9e-4f88-9d40-41d5af695653"
      },
      "execution_count": null,
      "outputs": [
        {
          "output_type": "execute_result",
          "data": {
            "text/plain": [
              "<Axes: xlabel='Quiz', ylabel='Final'>"
            ]
          },
          "metadata": {},
          "execution_count": 11
        },
        {
          "output_type": "display_data",
          "data": {
            "text/plain": [
              "<Figure size 640x480 with 1 Axes>"
            ],
            "image/png": "[encoded data removed]"
          },
          "metadata": {}
        }
      ]
    },
    {
      "cell_type": "code",
      "source": [
        "sns.distplot(fileScore.Final, bins=10)"
      ],
      "metadata": {
        "colab": {
          "base_uri": "https://localhost:8080/",
          "height": 657
        },
        "id": "pGjRYXbl-bOk",
        "outputId": "d273d119-f306-4042-ee14-b1e9edee4f8d"
      },
      "execution_count": null,
      "outputs": [
        {
          "output_type": "stream",
          "name": "stderr",
          "text": [
            "<ipython-input-18-677e255fece8>:1: UserWarning: \n",
            "\n",
            "`distplot` is a deprecated function and will be removed in seaborn v0.14.0.\n",
            "\n",
            "Please adapt your code to use either `displot` (a figure-level function with\n",
            "similar flexibility) or `histplot` (an axes-level function for histograms).\n",
            "\n",
            "For a guide to updating your code to use the new functions, please see\n",
            "https://gist.github.com/mwaskom/de44147ed2974457ad6372750bbe5751\n",
            "\n",
            "  sns.distplot(fileScore.Final, bins=10)\n"
          ]
        },
        {
          "output_type": "execute_result",
          "data": {
            "text/plain": [
              "<Axes: xlabel='Final', ylabel='Density'>"
            ]
          },
          "metadata": {},
          "execution_count": 18
        },
        {
          "output_type": "display_data",
          "data": {
            "text/plain": [
              "<Figure size 640x480 with 1 Axes>"
            ],
            "image/png": "[encoded data removed]"
          },
          "metadata": {}
        }
      ]
    },
    {
      "cell_type": "markdown",
      "source": [
        "Find the mean, varience and standard deviation of quiz, assignment and final exam of 30 random students."
      ],
      "metadata": {
        "id": "wlhYIhF1A58H"
      }
    },
    {
      "cell_type": "code",
      "source": [
        "import random\n",
        "#Assignments\n",
        "assignment_counts = fileScore['Assignment'].value_counts()\n",
        "assignment_grade = [random.choice(assignment_counts.index) for _ in range(30)]\n",
        "print(assignment_grade)\n",
        "#Quiz\n",
        "quiz_counts = fileScore['Quiz'].value_counts()\n",
        "quiz_grade = [random.choice(quiz_counts.index) for _ in range(30)]\n",
        "print(quiz_grade)\n",
        "#Final exam\n",
        "final_exam_counts = fileScore['Final'].value_counts()\n",
        "final_exam_grade = [random.choice(final_exam_counts.index) for _ in range(30)]\n",
        "print(final_exam_grade)"
      ],
      "metadata": {
        "colab": {
          "base_uri": "https://localhost:8080/"
        },
        "id": "10pjhbK8_3By",
        "outputId": "12c9d11d-d8c6-4810-cbb0-79dc69d9b88c"
      },
      "execution_count": null,
      "outputs": [
        {
          "output_type": "stream",
          "name": "stdout",
          "text": [
            "[6.6, 9.0, 8.7, 9.0, 7.4, 9.5, 9.1, 8.2, 8.2, 6.1, 8.6, 6.5, 4.6, 5.5, 7.6, 7.7, 7.6, 9.0, 9.5, 6.7, 6.5, 10.0, 9.7, 9.1, 9.1, 9.8, 6.4, 8.4, 9.6, 4.6]\n",
            "[7.4, 4.1, 5.8, 6.6, 6.2, 7.2, 9.5, 4.9, 5.3, 4.8, 8.5, 0.0, 4.9, 4.4, 6.6, 3.9, 6.1, 8.2, 3.9, 4.4, 5.7, 8.6, 7.9, 6.7, 7.4, 8.2, 8.7, 5.8, 5.6, 9.5]\n",
            "[7.4, 7.4, 9.6, 6.2, 4.8, 5.2, 7.6, 7.8, 2.8, 6.4, 5.6, 9.6, 2.6, 3.8, 7.6, 3.4, 4.0, 6.6, 6.0, 6.4, 9.2, 4.8, 3.8, 8.8, 9.2, 0.0, 3.8, 7.4, 2.2, 7.4]\n"
          ]
        }
      ]
    },
    {
      "cell_type": "code",
      "source": [
        "import statistics"
      ],
      "metadata": {
        "id": "_IdqbAmgP4D_"
      },
      "execution_count": null,
      "outputs": []
    },
    {
      "cell_type": "code",
      "source": [
        "#mean\n",
        "quiz_mean = statistics.mean(quiz_grade)\n",
        "assignment_mean = statistics.mean(assignment_grade)\n",
        "final_exam_mean = statistics.mean(final_exam_grade)"
      ],
      "metadata": {
        "id": "6Th5Sye-QSif"
      },
      "execution_count": null,
      "outputs": []
    },
    {
      "cell_type": "code",
      "source": [
        "#variance\n",
        "quiz_variance = statistics.variance(quiz_grade)\n",
        "assignment_variance = statistics.variance(assignment_grade)\n",
        "final_exam_variance = statistics.variance(final_exam_grade)"
      ],
      "metadata": {
        "id": "VyG7693DQx91"
      },
      "execution_count": null,
      "outputs": []
    },
    {
      "cell_type": "code",
      "source": [
        "#standard deviation\n",
        "quiz_standard = statistics.stdev(quiz_grade)\n",
        "assignment_standard = statistics.stdev(assignment_grade)\n",
        "final_exam_standard = statistics.stdev(final_exam_grade)"
      ],
      "metadata": {
        "id": "SZGUKuZzRHcn"
      },
      "execution_count": null,
      "outputs": []
    },
    {
      "cell_type": "code",
      "source": [
        "# Print the results\n",
        "print(\"Sample mean:\")\n",
        "print(\"Quiz grade:\", quiz_mean)\n",
        "print(\"Assignment grade:\", assignment_mean)\n",
        "print(\"Final exam grade:\", final_exam_mean)\n",
        "\n",
        "print(\"\\nSample variance:\")\n",
        "print(\"Quiz grade:\", quiz_variance)\n",
        "print(\"Assignment grade:\", assignment_variance)\n",
        "print(\"Final exam grade:\", final_exam_variance)\n",
        "\n",
        "print(\"\\nSample standard deviation:\")\n",
        "print(\"Quiz grade:\", quiz_standard)\n",
        "print(\"Assignment grade:\", assignment_standard)\n",
        "print(\"Final exam grade:\", final_exam_standard)"
      ],
      "metadata": {
        "colab": {
          "base_uri": "https://localhost:8080/"
        },
        "id": "sNZifTbkRXwt",
        "outputId": "99cc9504-552f-4116-a2c4-137142fcd4f4"
      },
      "execution_count": null,
      "outputs": [
        {
          "output_type": "stream",
          "name": "stdout",
          "text": [
            "Sample mean:\n",
            "Quiz grade: 6.226666666666667\n",
            "Assignment grade: 7.943333333333333\n",
            "Final exam grade: 5.913333333333333\n",
            "\n",
            "Sample variance:\n",
            "Quiz grade: 4.18616091954023\n",
            "Assignment grade: 2.3887471264367814\n",
            "Final exam grade: 5.93567816091954\n",
            "\n",
            "Sample standard deviation:\n",
            "Quiz grade: 2.0460109773752997\n",
            "Assignment grade: 1.545557221987197\n",
            "Final exam grade: 2.436324724029935\n"
          ]
        }
      ]
    },
    {
      "cell_type": "code",
      "source": [
        "import pandas as pd\n",
        "import random\n",
        "\n",
        "# Calculate the proportion of students with final exam grades more than 7 in the whole dataset\n",
        "proportion_above_7 = (fileScore['Final'] > 7).mean()\n",
        "\n",
        "print(f\"Proportion of students with final exam grades more than 7: {proportion_above_7:.2%}\")\n",
        "\n",
        "# Set your seed for reproducibility (replace 'your_seed' with your actual ID)\n",
        "random.seed(10)\n",
        "\n",
        "# Simulate selecting 30 students randomly\n",
        "sample_size = 30\n",
        "random_sample = random.sample(fileScore['Final'].tolist(), sample_size)\n",
        "\n",
        "# Calculate the expected number of students with final exam grades more than 7\n",
        "expected_number_above_7 = proportion_above_7 * sample_size\n",
        "\n",
        "print(f\"Expected number of students with final exam grades more than 7 in a sample of 30: {expected_number_above_7:.2f}\")\n",
        "\n",
        "# Calculate the actual number of students with final exam grades more than 7 in your sample\n",
        "actual_number_above_7 = sum(grade > 7 for grade in random_sample)\n",
        "\n",
        "print(f\"Actual number of students with final exam grades more than 7 in your sample: {actual_number_above_7}\")\n"
      ],
      "metadata": {
        "colab": {
          "base_uri": "https://localhost:8080/"
        },
        "id": "Px2fLrkvDO00",
        "outputId": "9e0c3afe-9a40-48e6-fdec-206f4c55215b"
      },
      "execution_count": null,
      "outputs": [
        {
          "output_type": "stream",
          "name": "stdout",
          "text": [
            "Proportion of students with final exam grades more than 7: 7.69%\n",
            "Expected number of students with final exam grades more than 7 in a sample of 30: 2.31\n",
            "Actual number of students with final exam grades more than 7 in your sample: 1\n"
          ]
        }
      ]
    },
    {
      "cell_type": "markdown",
      "source": [
        "Find the smallest sample size of the dataset"
      ],
      "metadata": {
        "id": "E7L8zIDWM9oB"
      }
    },
    {
      "cell_type": "code",
      "source": [
        "Z = 1.96\n",
        "E = 1.2\n",
        "n = (Z**2 * (final_exam_standard)**2) / E**2\n",
        "print(n)"
      ],
      "metadata": {
        "id": "N_7gnH7GE38R",
        "colab": {
          "base_uri": "https://localhost:8080/"
        },
        "outputId": "b236b2c3-d2ab-431b-bfe0-f4174e00d133"
      },
      "execution_count": null,
      "outputs": [
        {
          "output_type": "stream",
          "name": "stdout",
          "text": [
            "15.835070293742014\n"
          ]
        }
      ]
    },
    {
      "cell_type": "markdown",
      "source": [
        "Train the Model using Linear Regression model\n",
        "`final_exam_grade = a + b*quiz_grade`"
      ],
      "metadata": {
        "id": "GOlBQ1d9Ophd"
      }
    },
    {
      "cell_type": "code",
      "source": [
        "#Find the correlation of each attribute.\n",
        "corr = fileScore.corr()\n",
        "corr.Final.sort_values(ascending=False)"
      ],
      "metadata": {
        "colab": {
          "base_uri": "https://localhost:8080/"
        },
        "id": "-gG5K_SURELw",
        "outputId": "85e2f7e2-f306-4dce-e7e1-5f6aa4fdd32e"
      },
      "execution_count": null,
      "outputs": [
        {
          "output_type": "execute_result",
          "data": {
            "text/plain": [
              "Final               1.000000\n",
              "Quiz                0.527050\n",
              "Assignment          0.501811\n",
              "Computer_Project    0.483916\n",
              "No.                 0.199699\n",
              "Name: Final, dtype: float64"
            ]
          },
          "metadata": {},
          "execution_count": 36
        }
      ]
    },
    {
      "cell_type": "code",
      "source": [
        "x = fileScore.drop(['Final','Assignment','Computer_Project'],axis=1)\n",
        "y = fileScore.Final\n",
        "print(x)\n",
        "print(y)"
      ],
      "metadata": {
        "colab": {
          "base_uri": "https://localhost:8080/"
        },
        "id": "oXykMzZ6On1w",
        "outputId": "a9b9aea0-5c2e-4a8f-874e-e25ccd74a6a0"
      },
      "execution_count": null,
      "outputs": [
        {
          "output_type": "stream",
          "name": "stdout",
          "text": [
            "     No.  Quiz\n",
            "0      1   4.8\n",
            "1      2   7.3\n",
            "2      3   5.2\n",
            "3      4   4.1\n",
            "4      5   5.6\n",
            "..   ...   ...\n",
            "294  295   7.0\n",
            "295  296   7.3\n",
            "296  297   5.3\n",
            "297  298   6.0\n",
            "298  299   6.0\n",
            "\n",
            "[299 rows x 2 columns]\n",
            "0      5.2\n",
            "1      5.8\n",
            "2      6.2\n",
            "3      4.2\n",
            "4      2.8\n",
            "      ... \n",
            "294    4.6\n",
            "295    4.6\n",
            "296    2.8\n",
            "297    6.6\n",
            "298    4.8\n",
            "Name: Final, Length: 299, dtype: float64\n"
          ]
        }
      ]
    },
    {
      "cell_type": "code",
      "source": [
        "Xtrain, Xtest, Ytrain, Ytest = train_test_split(x, y, random_state=10)\n",
        "print('Xtrain:',Xtrain.shape)\n",
        "print('Ytrain:',Ytrain.shape)\n",
        "print('Xtest:',Xtest.shape)\n",
        "print('Ytest:',Ytest.shape)"
      ],
      "metadata": {
        "colab": {
          "base_uri": "https://localhost:8080/"
        },
        "id": "PkMYc0XVPaa6",
        "outputId": "dd4ae370-7f25-4e61-f34f-ec3216eae191"
      },
      "execution_count": null,
      "outputs": [
        {
          "output_type": "stream",
          "name": "stdout",
          "text": [
            "Xtrain: (224, 2)\n",
            "Ytrain: (224,)\n",
            "Xtest: (75, 2)\n",
            "Ytest: (75,)\n"
          ]
        }
      ]
    },
    {
      "cell_type": "code",
      "source": [
        "model_train = LinearRegression()"
      ],
      "metadata": {
        "id": "E3RgrMeUP9P-"
      },
      "execution_count": null,
      "outputs": []
    },
    {
      "cell_type": "code",
      "source": [
        "model_train.fit(Xtrain, Ytrain)"
      ],
      "metadata": {
        "colab": {
          "base_uri": "https://localhost:8080/",
          "height": 74
        },
        "id": "FNur1lU3QDQ1",
        "outputId": "a96a9f4d-621f-4e45-ec02-9e2adabf138c"
      },
      "execution_count": null,
      "outputs": [
        {
          "output_type": "execute_result",
          "data": {
            "text/plain": [
              "LinearRegression()"
            ],
            "text/html": [
              "<style>#sk-container-id-1 {color: black;background-color: white;}#sk-container-id-1 pre{padding: 0;}#sk-container-id-1 div.sk-toggleable {background-color: white;}#sk-container-id-1 label.sk-toggleable__label {cursor: pointer;display: block;width: 100%;margin-bottom: 0;padding: 0.3em;box-sizing: border-box;text-align: center;}#sk-container-id-1 label.sk-toggleable__label-arrow:before {content: \"▸\";float: left;margin-right: 0.25em;color: #696969;}#sk-container-id-1 label.sk-toggleable__label-arrow:hover:before {color: black;}#sk-container-id-1 div.sk-estimator:hover label.sk-toggleable__label-arrow:before {color: black;}#sk-container-id-1 div.sk-toggleable__content {max-height: 0;max-width: 0;overflow: hidden;text-align: left;background-color: #f0f8ff;}#sk-container-id-1 div.sk-toggleable__content pre {margin: 0.2em;color: black;border-radius: 0.25em;background-color: #f0f8ff;}#sk-container-id-1 input.sk-toggleable__control:checked~div.sk-toggleable__content {max-height: 200px;max-width: 100%;overflow: auto;}#sk-container-id-1 input.sk-toggleable__control:checked~label.sk-toggleable__label-arrow:before {content: \"▾\";}#sk-container-id-1 div.sk-estimator input.sk-toggleable__control:checked~label.sk-toggleable__label {background-color: #d4ebff;}#sk-container-id-1 div.sk-label input.sk-toggleable__control:checked~label.sk-toggleable__label {background-color: #d4ebff;}#sk-container-id-1 input.sk-hidden--visually {border: 0;clip: rect(1px 1px 1px 1px);clip: rect(1px, 1px, 1px, 1px);height: 1px;margin: -1px;overflow: hidden;padding: 0;position: absolute;width: 1px;}#sk-container-id-1 div.sk-estimator {font-family: monospace;background-color: #f0f8ff;border: 1px dotted black;border-radius: 0.25em;box-sizing: border-box;margin-bottom: 0.5em;}#sk-container-id-1 div.sk-estimator:hover {background-color: #d4ebff;}#sk-container-id-1 div.sk-parallel-item::after {content: \"\";width: 100%;border-bottom: 1px solid gray;flex-grow: 1;}#sk-container-id-1 div.sk-label:hover label.sk-toggleable__label {background-color: #d4ebff;}#sk-container-id-1 div.sk-serial::before {content: \"\";position: absolute;border-left: 1px solid gray;box-sizing: border-box;top: 0;bottom: 0;left: 50%;z-index: 0;}#sk-container-id-1 div.sk-serial {display: flex;flex-direction: column;align-items: center;background-color: white;padding-right: 0.2em;padding-left: 0.2em;position: relative;}#sk-container-id-1 div.sk-item {position: relative;z-index: 1;}#sk-container-id-1 div.sk-parallel {display: flex;align-items: stretch;justify-content: center;background-color: white;position: relative;}#sk-container-id-1 div.sk-item::before, #sk-container-id-1 div.sk-parallel-item::before {content: \"\";position: absolute;border-left: 1px solid gray;box-sizing: border-box;top: 0;bottom: 0;left: 50%;z-index: -1;}#sk-container-id-1 div.sk-parallel-item {display: flex;flex-direction: column;z-index: 1;position: relative;background-color: white;}#sk-container-id-1 div.sk-parallel-item:first-child::after {align-self: flex-end;width: 50%;}#sk-container-id-1 div.sk-parallel-item:last-child::after {align-self: flex-start;width: 50%;}#sk-container-id-1 div.sk-parallel-item:only-child::after {width: 0;}#sk-container-id-1 div.sk-dashed-wrapped {border: 1px dashed gray;margin: 0 0.4em 0.5em 0.4em;box-sizing: border-box;padding-bottom: 0.4em;background-color: white;}#sk-container-id-1 div.sk-label label {font-family: monospace;font-weight: bold;display: inline-block;line-height: 1.2em;}#sk-container-id-1 div.sk-label-container {text-align: center;}#sk-container-id-1 div.sk-container {/* jupyter's `normalize.less` sets `[hidden] { display: none; }` but bootstrap.min.css set `[hidden] { display: none !important; }` so we also need the `!important` here to be able to override the default hidden behavior on the sphinx rendered scikit-learn.org. See: https://github.com/scikit-learn/scikit-learn/issues/21755 */display: inline-block !important;position: relative;}#sk-container-id-1 div.sk-text-repr-fallback {display: none;}</style><div id=\"sk-container-id-1\" class=\"sk-top-container\"><div class=\"sk-text-repr-fallback\"><pre>LinearRegression()</pre><b>In a Jupyter environment, please rerun this cell to show the HTML representation or trust the notebook. <br />On GitHub, the HTML representation is unable to render, please try loading this page with nbviewer.org.</b></div><div class=\"sk-container\" hidden><div class=\"sk-item\"><div class=\"sk-estimator sk-toggleable\"><input class=\"sk-toggleable__control sk-hidden--visually\" id=\"sk-estimator-id-1\" type=\"checkbox\" checked><label for=\"sk-estimator-id-1\" class=\"sk-toggleable__label sk-toggleable__label-arrow\">LinearRegression</label><div class=\"sk-toggleable__content\"><pre>LinearRegression()</pre></div></div></div></div></div>"
            ]
          },
          "metadata": {},
          "execution_count": 40
        }
      ]
    },
    {
      "cell_type": "code",
      "source": [
        "y_pred = model_train.predict(Xtest)\n",
        "print(y_pred)"
      ],
      "metadata": {
        "colab": {
          "base_uri": "https://localhost:8080/"
        },
        "id": "NMHuHIfvSY38",
        "outputId": "7bc7c743-62cf-4616-bf8e-728ea16d0401"
      },
      "execution_count": null,
      "outputs": [
        {
          "output_type": "stream",
          "name": "stdout",
          "text": [
            "[2.52502408 0.14922799 4.57740231 4.34855578 6.45688062 5.34009555\n",
            " 5.72450902 3.76561742 4.74487874 5.79814094 4.70445359 5.34948333\n",
            " 4.86652316 4.30018542 6.86836717 3.49526658 2.72246428 3.14044239\n",
            " 4.40161726 4.87915394 4.54347425 4.59977874 5.64545915 5.47437075\n",
            " 4.82790399 3.90963827 4.59328164 5.99738712 4.50412825 5.69960532\n",
            " 4.33448243 3.74828998 4.26301435 5.80680744 5.0365324  4.60663925\n",
            " 4.50268015 4.7297207  5.336847   4.83403767 3.59344433 5.75844262\n",
            " 4.7376659  6.82938459 6.23020349 4.18829219 4.43410275 4.90839642\n",
            " 3.91325023 5.94902784 4.37165903 5.34514454 0.50656837 2.5206853\n",
            " 4.61602148 4.81346168 5.00729546 4.5019644  5.58446354 4.10275076\n",
            " 6.40490384 4.72142316 6.10676417 4.51495306 5.41481218 4.91633609\n",
            " 4.82970997 4.64779123 4.21861383 4.26625736 3.30540264 3.60643853\n",
            " 4.67124682 6.16775977 5.12640707]\n"
          ]
        }
      ]
    },
    {
      "cell_type": "code",
      "source": [
        "accuracy = model_train.score(Xtest, y_pred)\n",
        "print(f'Accuracy:{accuracy*100} %')"
      ],
      "metadata": {
        "colab": {
          "base_uri": "https://localhost:8080/"
        },
        "id": "Wp736xl6SueL",
        "outputId": "d745d4c3-e3c0-4db6-d0a2-1e10e4bf3182"
      },
      "execution_count": null,
      "outputs": [
        {
          "output_type": "stream",
          "name": "stdout",
          "text": [
            "Accuracy:100.0 %\n"
          ]
        }
      ]
    },
    {
      "cell_type": "code",
      "source": [
        "print('Coefficient: ',model_train.coef_)\n",
        "print('Intercept: ',model_train.intercept_)"
      ],
      "metadata": {
        "colab": {
          "base_uri": "https://localhost:8080/"
        },
        "id": "re9TacTpk40H",
        "outputId": "90656975-3b29-4a47-cdd4-1e88a99d56eb"
      },
      "execution_count": null,
      "outputs": [
        {
          "output_type": "stream",
          "name": "stdout",
          "text": [
            "Coefficient:  [0.00324855 0.64249693]\n",
            "Intercept:  -0.06192768331813703\n"
          ]
        }
      ]
    },
    {
      "cell_type": "markdown",
      "source": [
        "Model Evaluation"
      ],
      "metadata": {
        "id": "DoCUKzlsTXJl"
      }
    },
    {
      "cell_type": "code",
      "source": [
        "#mean squared error\n",
        "from sklearn import metrics\n",
        "mse = metrics.mean_squared_error(Ytest, y_pred)\n",
        "print(mse)"
      ],
      "metadata": {
        "colab": {
          "base_uri": "https://localhost:8080/"
        },
        "id": "OvL2A8kyTWkc",
        "outputId": "acd65b28-ff4e-45fa-b616-24d36cfff873"
      },
      "execution_count": null,
      "outputs": [
        {
          "output_type": "stream",
          "name": "stdout",
          "text": [
            "3.7245838022905633\n"
          ]
        }
      ]
    },
    {
      "cell_type": "code",
      "source": [
        "#root mean squared error:\n",
        "rmse = np.sqrt(metrics.mean_squared_error(Ytest, y_pred))\n",
        "print(rmse)"
      ],
      "metadata": {
        "colab": {
          "base_uri": "https://localhost:8080/"
        },
        "id": "vVvynqbSctG6",
        "outputId": "abc38886-5b24-4421-de67-b13dfb5bcb93"
      },
      "execution_count": null,
      "outputs": [
        {
          "output_type": "stream",
          "name": "stdout",
          "text": [
            "1.9299180817564676\n"
          ]
        }
      ]
    },
    {
      "cell_type": "code",
      "source": [
        "training_data_prediction = model_train.predict(Xtrain)\n",
        "error_score = metrics.r2_score(Ytrain, training_data_prediction)\n",
        "print(\"R squared error: \",error_score)"
      ],
      "metadata": {
        "colab": {
          "base_uri": "https://localhost:8080/"
        },
        "id": "qhMwUkDsnBpO",
        "outputId": "2b751243-06e3-49a5-bb7d-a168f663b579"
      },
      "execution_count": null,
      "outputs": [
        {
          "output_type": "stream",
          "name": "stdout",
          "text": [
            "R squared error:  0.36840672555548637\n"
          ]
        }
      ]
    }
  ]
}